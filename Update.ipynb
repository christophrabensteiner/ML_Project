{
 "cells": [
  {
   "cell_type": "markdown",
   "metadata": {},
   "source": [
    "Im letzen Milestone, haben wir unsere Modelle (AlexNet und Lenet-5) auf den Fashion Datensatz erfolgreich trainieren können. \n",
    "Wir haben uns für diese Modelle entschieden, da wir uns für Benchmark Modelle interessierten, die für Bildverarbeitung geeignet sind. Wie wir in der IVL besprochen haben sind AlexNet und Lenet genau solche Modelle, die sich für Bildklassifizierung eignen und auf der CNN Architektur aufbauen.\n",
    "\n",
    "Für das Training beschlossen wir die Modelle auf deren Standardparameter zu trainieren, doch änderten wir mehrmals die Hyperparameter, um Unterschiede im Training und Testing festzustellen. Dabei wollten wir die Verhaltensunterschiede in der Manipulation von Epochs, Learning Rate und Dropout beobachten und für unseren finalen Milestone auswerten.\n",
    "\n",
    "Insgesamt haben wir jedes Modell 24 mal trainiert: \n",
    "\n",
    "EPOCHS=[10, 50, 100]\n",
    "\n",
    "Dropout=[1.0, 0.75, 0.5, 0.25] #Probability die Neuronen zu behalten\n",
    "\n",
    "Learning Rate=[0.01, 0.001]\n",
    "\n",
    "Alle 48 Modelle wurden anschließen mit dem Testdatensatz getestet, über Tensorboard (logs) visualisiert und über eine Confusion Matrix ausgewertet.\n",
    "Die Ergebnisse werden im nächsten Abschnitt präsentiert.\n",
    "\n",
    "Unsere trainierten Modelle sind zu groß für Gitlab, daher haben wir sie auf Google Drive hochgeladen und stehen über den nachfolgenden Link zum Download bereit:\n",
    "https://drive.google.com/open?id=1IOykaWz83PEPBh9A5f5ibTpuen9zngk4\n"
   ]
  }
 ],
 "metadata": {
  "kernelspec": {
   "display_name": "Python 3",
   "language": "python",
   "name": "python3"
  },
  "language_info": {
   "codemirror_mode": {
    "name": "ipython",
    "version": 3
   },
   "file_extension": ".py",
   "mimetype": "text/x-python",
   "name": "python",
   "nbconvert_exporter": "python",
   "pygments_lexer": "ipython3",
   "version": "3.7.3"
  }
 },
 "nbformat": 4,
 "nbformat_minor": 2
}
