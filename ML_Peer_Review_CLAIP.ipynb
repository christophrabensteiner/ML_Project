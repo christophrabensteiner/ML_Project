{
 "cells": [
  {
   "cell_type": "markdown",
   "metadata": {},
   "source": [
    "## Peer Review: ML Projekt Gruppe CLAIP"
   ]
  },
  {
   "cell_type": "markdown",
   "metadata": {},
   "source": [
    "Das Ziel des Projektes ist eine Analyse von Amazon Kommentaren für Fotokameras. Dabei soll vorhergesagt werden, welche Kommentare besonders hilfreich für andere potenzielle Käufer sind. Als KPIs für die Messung des Nutzen eines Kommentars werden die Länge eines Satzes bzw. Länge des gesamten Reviews, das Feature `helpful Votes`, sowie der Grundstimmung (Sentiment) gewählt. \n",
    "\n",
    "Der Datensatz enthält 15 Variablen mit 1801974 Observations. Das Feature `helpful Votes` ist \"highly skewed\" und eignet sich daher ohne Normalisierung nicht als Predictive Variable für eine Regression. Zum jetzigen Zeitpunkt ist noch kein Modell auf dem Git-Repository verfügbar. Mithilfe von Feature Engineering könnten neue Features aus dem vorhanden Feature `review body` (z.B. Länge des Reviews, Sentiment Score) gewonnen werden, um als Input Variable für eine Vorhersage von `helpful Votes` verwendet zu werden. \n",
    "\n",
    "Dieses Projekt vereint die meisten der bis jetzt in den Labs gelernten Techniken zum Preprocessing, Modeling und Evaluierung der Daten einsetzt. \n"
   ]
  }
 ],
 "metadata": {
  "kernelspec": {
   "display_name": "Python 3",
   "language": "python",
   "name": "python3"
  },
  "language_info": {
   "codemirror_mode": {
    "name": "ipython",
    "version": 3
   },
   "file_extension": ".py",
   "mimetype": "text/x-python",
   "name": "python",
   "nbconvert_exporter": "python",
   "pygments_lexer": "ipython3",
   "version": "3.6.1"
  }
 },
 "nbformat": 4,
 "nbformat_minor": 2
}
